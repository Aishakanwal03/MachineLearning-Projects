{
 "cells": [
  {
   "cell_type": "markdown",
   "metadata": {
    "colab_type": "text",
    "id": "Ll1uY_-fWFRb"
   },
   "source": [
    "# Step 1: Importing libraries"
   ]
  },
  {
   "cell_type": "code",
   "execution_count": 0,
   "metadata": {
    "colab": {},
    "colab_type": "code",
    "id": "PK3_XxawWFRh"
   },
   "outputs": [],
   "source": [
    "import numpy as np\n",
    "import pandas as pd\n",
    "import seaborn as sns \n",
    "import matplotlib.pyplot as plt\n",
    "import os\n",
    "from keras.utils import to_categorical"
   ]
  },
  {
   "cell_type": "code",
   "execution_count": 0,
   "metadata": {
    "colab": {},
    "colab_type": "code",
    "id": "fxwJQicvWFRz"
   },
   "outputs": [],
   "source": [
    "import tensorflow as tf\n",
    "import numpy as np\n",
    "if tf.__version__ < \"2.0.0\":\n",
    "  !pip install --upgrade tensorflow_gpu==2.0    "
   ]
  },
  {
   "cell_type": "code",
   "execution_count": 38,
   "metadata": {
    "colab": {
     "base_uri": "https://localhost:8080/",
     "height": 34
    },
    "colab_type": "code",
    "executionInfo": {
     "elapsed": 1303,
     "status": "ok",
     "timestamp": 1579079300464,
     "user": {
      "displayName": "Amber Shahid",
      "photoUrl": "",
      "userId": "16954975473351165154"
     },
     "user_tz": -300
    },
    "id": "M6tQfkboWFR6",
    "outputId": "e09cf33b-b791-4972-e3c3-e55d1b521da7"
   },
   "outputs": [
    {
     "name": "stdout",
     "output_type": "stream",
     "text": [
      "2.0.0\n"
     ]
    }
   ],
   "source": [
    "print(tf.__version__)\n",
    "\n"
   ]
  },
  {
   "cell_type": "markdown",
   "metadata": {
    "colab_type": "text",
    "id": "SJ2SP4OrfwKG"
   },
   "source": [
    "# Step 2: Loading Dataset"
   ]
  },
  {
   "cell_type": "code",
   "execution_count": 0,
   "metadata": {
    "colab": {},
    "colab_type": "code",
    "id": "XzGJPpZ8WFSM"
   },
   "outputs": [],
   "source": [
    "pd.options.display.max_rows = None"
   ]
  },
  {
   "cell_type": "code",
   "execution_count": 43,
   "metadata": {
    "colab": {
     "base_uri": "https://localhost:8080/",
     "height": 185
    },
    "colab_type": "code",
    "executionInfo": {
     "elapsed": 1205,
     "status": "error",
     "timestamp": 1579079446561,
     "user": {
      "displayName": "Amber Shahid",
      "photoUrl": "",
      "userId": "16954975473351165154"
     },
     "user_tz": -300
    },
    "id": "hdQxiZU2WFSQ",
    "outputId": "b6afaa7e-dec9-422b-f351-ece100efd0e3"
   },
   "outputs": [
    {
     "ename": "NameError",
     "evalue": "ignored",
     "output_type": "error",
     "traceback": [
      "\u001b[0;31m---------------------------------------------------------------------------\u001b[0m",
      "\u001b[0;31mNameError\u001b[0m                                 Traceback (most recent call last)",
      "\u001b[0;32m<ipython-input-43-fd4ac2b8719a>\u001b[0m in \u001b[0;36m<module>\u001b[0;34m()\u001b[0m\n\u001b[0;32m----> 1\u001b[0;31m \u001b[0mdf\u001b[0m \u001b[0;34m=\u001b[0m \u001b[0mdataframe\u001b[0m\u001b[0;34m.\u001b[0m\u001b[0msample\u001b[0m\u001b[0;34m(\u001b[0m\u001b[0mfrac\u001b[0m\u001b[0;34m=\u001b[0m\u001b[0;36m1\u001b[0m\u001b[0;34m)\u001b[0m\u001b[0;34m\u001b[0m\u001b[0;34m\u001b[0m\u001b[0m\n\u001b[0m\u001b[1;32m      2\u001b[0m \u001b[0mdf\u001b[0m\u001b[0;34m\u001b[0m\u001b[0;34m\u001b[0m\u001b[0m\n",
      "\u001b[0;31mNameError\u001b[0m: name 'dataframe' is not defined"
     ]
    }
   ],
   "source": [
    "df = dataframe.sample(frac=1)\n",
    "df"
   ]
  },
  {
   "cell_type": "code",
   "execution_count": 0,
   "metadata": {
    "colab": {
     "base_uri": "https://localhost:8080/",
     "height": 180
    },
    "colab_type": "code",
    "executionInfo": {
     "elapsed": 1199,
     "status": "error",
     "timestamp": 1579076327616,
     "user": {
      "displayName": "Amber Shahid",
      "photoUrl": "",
      "userId": "16954975473351165154"
     },
     "user_tz": -300
    },
    "id": "bl2s-C2QWFST",
    "outputId": "878e658c-83c6-46b4-9c93-90da40f4ed61"
   },
   "outputs": [
    {
     "ename": "NameError",
     "evalue": "ignored",
     "output_type": "error",
     "traceback": [
      "\u001b[0;31m---------------------------------------------------------------------------\u001b[0m",
      "\u001b[0;31mNameError\u001b[0m                                 Traceback (most recent call last)",
      "\u001b[0;32m<ipython-input-18-329987b3e1e5>\u001b[0m in \u001b[0;36m<module>\u001b[0;34m()\u001b[0m\n\u001b[0;32m----> 1\u001b[0;31m \u001b[0miris\u001b[0m \u001b[0;34m=\u001b[0m \u001b[0mdf\u001b[0m\u001b[0;34m.\u001b[0m\u001b[0mvalues\u001b[0m\u001b[0;34m\u001b[0m\u001b[0;34m\u001b[0m\u001b[0m\n\u001b[0m\u001b[1;32m      2\u001b[0m \u001b[0miris\u001b[0m\u001b[0;34m\u001b[0m\u001b[0;34m\u001b[0m\u001b[0m\n",
      "\u001b[0;31mNameError\u001b[0m: name 'df' is not defined"
     ]
    }
   ],
   "source": [
    "iris = df.values\n",
    "iris"
   ]
  },
  {
   "cell_type": "markdown",
   "metadata": {
    "colab_type": "text",
    "id": "y2HGxVNLclK5"
   },
   "source": [
    "# Step 3: Identifying features and target  &&\n",
    "#  Splitting train , test data , Validation"
   ]
  },
  {
   "cell_type": "code",
   "execution_count": 0,
   "metadata": {
    "colab": {},
    "colab_type": "code",
    "id": "c5I8CxgFcktu"
   },
   "outputs": [],
   "source": [
    "            "
   ]
  },
  {
   "cell_type": "code",
   "execution_count": 0,
   "metadata": {
    "colab": {},
    "colab_type": "code",
    "id": "UajZk4YwWFSV"
   },
   "outputs": [],
   "source": [
    "iris.shape"
   ]
  },
  {
   "cell_type": "code",
   "execution_count": 0,
   "metadata": {
    "colab": {},
    "colab_type": "code",
    "id": "fr7LR8bgeSYg"
   },
   "outputs": [],
   "source": []
  },
  {
   "cell_type": "code",
   "execution_count": 0,
   "metadata": {
    "colab": {},
    "colab_type": "code",
    "id": "P7pUIYoAWFSX"
   },
   "outputs": [],
   "source": [
    "val_x = iris[:20,:4].astype(float) \n",
    "val_y = iris[:20,4]\n",
    "\n",
    "x_train = iris[20:110,:4].astype(float) \n",
    "y_train = iris[20:110,4]\n",
    "\n",
    "x_test = iris[110:,:4].astype(float)\n",
    "y_test = iris[110:,4]"
   ]
  },
  {
   "cell_type": "code",
   "execution_count": 0,
   "metadata": {
    "colab": {},
    "colab_type": "code",
    "id": "HFOejVpeWFSa"
   },
   "outputs": [],
   "source": [
    "x_train.shape , y_train.shape , x_test.shape , y_test.shape , val_x.shape , val_y.shape"
   ]
  },
  {
   "cell_type": "markdown",
   "metadata": {
    "colab_type": "text",
    "id": "yASKiQhNdaF6"
   },
   "source": [
    "# Step 4: Encoding Labels"
   ]
  },
  {
   "cell_type": "code",
   "execution_count": 0,
   "metadata": {
    "colab": {},
    "colab_type": "code",
    "id": "nwpYQ12EWFSj"
   },
   "outputs": [],
   "source": [
    "from sklearn.preprocessing import LabelEncoder\n",
    "# encode class values as integers\n",
    "encoder= LabelEncoder()\n",
    "encoded_Y = encoder.fit_transform(y_train)\n",
    "encoded_y_train = tf.keras.utils.to_categorical(encoded_Y)\n",
    "\n",
    "encoded_Y = encoder.fit_transform(y_test)\n",
    "encoded_y_test = tf.keras.utils.to_categorical(encoded_Y)\n",
    "\n",
    "encoded_Y = encoder.fit_transform(val_y)\n",
    "encoded_val = tf.keras.utils.to_categorical(encoded_Y)"
   ]
  },
  {
   "cell_type": "markdown",
   "metadata": {
    "colab_type": "text",
    "id": "u0eHvcU-ey-H"
   },
   "source": [
    "# Step 5: Building models"
   ]
  },
  {
   "cell_type": "code",
   "execution_count": 0,
   "metadata": {
    "colab": {},
    "colab_type": "code",
    "id": "yBF0iUgUWFSn"
   },
   "outputs": [],
   "source": [
    "from keras.models import Sequential\n",
    "from keras.layers import Dense\n",
    "from keras.optimizers import SGD,Adam"
   ]
  },
  {
   "cell_type": "code",
   "execution_count": 0,
   "metadata": {
    "colab": {},
    "colab_type": "code",
    "id": "7nLTGTZsWFSq"
   },
   "outputs": [],
   "source": [
    "model = Sequential()\n",
    "\n",
    "model.add(Dense(10,input_shape=(4,),activation='tanh'))\n",
    "model.add(Dense(8,activation='tanh'))\n",
    "model.add(Dense(6,activation='tanh'))\n",
    "model.add(Dense(3,activation='softmax'))"
   ]
  },
  {
   "cell_type": "code",
   "execution_count": 0,
   "metadata": {
    "colab": {},
    "colab_type": "code",
    "id": "I7vSN9hOWFS0"
   },
   "outputs": [],
   "source": [
    "\n",
    "model.compile(optimizer='adam',\n",
    "              loss='categorical_crossentropy',\n",
    "              metrics=['accuracy'])"
   ]
  },
  {
   "cell_type": "markdown",
   "metadata": {
    "colab_type": "text",
    "id": "ha90Jv32fAFx"
   },
   "source": [
    "# Step 6: Fitting & validating model\n"
   ]
  },
  {
   "cell_type": "code",
   "execution_count": 0,
   "metadata": {
    "colab": {},
    "colab_type": "code",
    "id": "S-vifqM3WFS2"
   },
   "outputs": [],
   "source": [
    "history=model.fit(x_train , encoded_y_train , validation_data=(val_x , encoded_val),  epochs=200)"
   ]
  },
  {
   "cell_type": "code",
   "execution_count": 0,
   "metadata": {
    "colab": {},
    "colab_type": "code",
    "id": "iB84t4avWFS4"
   },
   "outputs": [],
   "source": [
    "results = model.evaluate(x_test, encoded_y_test,verbose=2)\n",
    "results"
   ]
  },
  {
   "cell_type": "code",
   "execution_count": 0,
   "metadata": {
    "colab": {},
    "colab_type": "code",
    "id": "f-82FnmYWFS6"
   },
   "outputs": [],
   "source": [
    "\n",
    "\n",
    "\n",
    "\n",
    "\n",
    "\n",
    "plt.figure(figsize=(10,3))\n",
    "plt.plot(history.history['acc'] , \"bo\")\n",
    "plt.plot(history.history['val_acc'], \"b\",color=\"Red\")\n",
    "plt.title('model accuracy')\n",
    "plt.ylabel('accuracy')\n",
    "plt.xlabel('epoch')\n",
    "plt.legend(['train', 'val'], loc='upper left')\n",
    "plt.show()"
   ]
  },
  {
   "cell_type": "markdown",
   "metadata": {
    "colab_type": "text",
    "id": "2WkfvPUHglR4"
   },
   "source": [
    "# Step 7: Fitting & validating model 2 \n"
   ]
  },
  {
   "cell_type": "code",
   "execution_count": 0,
   "metadata": {
    "colab": {},
    "colab_type": "code",
    "id": "cFhBEqlcWFS8"
   },
   "outputs": [],
   "source": [
    "model2 = Sequential()\n",
    "\n",
    "model2.add(Dense(10,input_shape=(4,),activation='relu'))\n",
    "model2.add(Dense(4,activation='relu'))\n",
    "#model2.add(Dense(3,activation='tanh'))\n",
    "model2.add(Dense(3,activation='softmax'))"
   ]
  },
  {
   "cell_type": "code",
   "execution_count": 0,
   "metadata": {
    "colab": {},
    "colab_type": "code",
    "id": "LftErVv4WFS_"
   },
   "outputs": [],
   "source": [
    "model2.compile(optimizer='adam',\n",
    "              loss='categorical_crossentropy',\n",
    "              metrics=['accuracy'])"
   ]
  },
  {
   "cell_type": "code",
   "execution_count": 0,
   "metadata": {
    "colab": {},
    "colab_type": "code",
    "id": "uYFeYcvXWFTF"
   },
   "outputs": [],
   "source": [
    "history=model.fit(x_train , encoded_y_train , validation_data=(val_x , encoded_val),  epochs=15)"
   ]
  },
  {
   "cell_type": "code",
   "execution_count": 0,
   "metadata": {
    "colab": {},
    "colab_type": "code",
    "id": "xAMn-HgJWFTI"
   },
   "outputs": [],
   "source": [
    "plt.figure(figsize=(10,3))\n",
    "plt.plot(history.history['acc'] , \"bo\")\n",
    "plt.plot(history.history['val_acc'], \"b\",color=\"Red\")\n",
    "plt.title('model accuracy')\n",
    "plt.ylabel('accuracy')\n",
    "plt.xlabel('epoch')\n",
    "plt.legend(['train', 'val'], loc='upper left')\n",
    "plt.show()"
   ]
  },
  {
   "cell_type": "markdown",
   "metadata": {
    "colab_type": "text",
    "id": "vcsotI_GfZUl"
   },
   "source": [
    "# Prediction"
   ]
  },
  {
   "cell_type": "code",
   "execution_count": 0,
   "metadata": {
    "colab": {},
    "colab_type": "code",
    "id": "X8B4Exg3WFTM"
   },
   "outputs": [],
   "source": [
    "i = 2\n",
    "prediction =  model.predict_classes(x_test[i].reshape(1,4))"
   ]
  },
  {
   "cell_type": "code",
   "execution_count": 0,
   "metadata": {
    "colab": {},
    "colab_type": "code",
    "id": "7FWvDqBOWFTR"
   },
   "outputs": [],
   "source": [
    "prediction"
   ]
  },
  {
   "cell_type": "code",
   "execution_count": 0,
   "metadata": {
    "colab": {},
    "colab_type": "code",
    "id": "-VloRuJgWFTU"
   },
   "outputs": [],
   "source": [
    "if prediction == 0:\n",
    "    print(\"The data is :\",x_test[i],\"and I have predicted that it's a\",prediction,\"i.e Iris-setosa\")\n",
    "    print(\"Actual data :\",x_test[i] , \"actual label :\",y_test[i])\n",
    "elif prediction == 1:\n",
    "    print(\"The data is :\",x_test[i],\"and I have predicted that it's a\",prediction,\"i.e Iris-versicolor\")\n",
    "    print(\"Actual data :\",x_test[i] , \"actual label :\",y_test[i])\n",
    "\n",
    "else:\n",
    "    print(\"The data is :\",x_test[i],\"and I have predicted that it's a\",prediction,\"i.e Iris-virginica\")\n",
    "    print(\"Actual data :\",x_test[i] , \"actual label :\",y_test[i])\n"
   ]
  },
  {
   "cell_type": "code",
   "execution_count": 0,
   "metadata": {
    "colab": {},
    "colab_type": "code",
    "id": "YbrjZSJzWFTY"
   },
   "outputs": [],
   "source": []
  }
 ],
 "metadata": {
  "colab": {
   "collapsed_sections": [
    "Ll1uY_-fWFRb",
    "SJ2SP4OrfwKG",
    "y2HGxVNLclK5",
    "yASKiQhNdaF6",
    "u0eHvcU-ey-H",
    "ha90Jv32fAFx",
    "2WkfvPUHglR4",
    "vcsotI_GfZUl"
   ],
   "name": "IRIS_Data_.ipynb",
   "provenance": []
  },
  "kernelspec": {
   "display_name": "Python 3",
   "language": "python",
   "name": "python3"
  },
  "language_info": {
   "codemirror_mode": {
    "name": "ipython",
    "version": 3
   },
   "file_extension": ".py",
   "mimetype": "text/x-python",
   "name": "python",
   "nbconvert_exporter": "python",
   "pygments_lexer": "ipython3",
   "version": "3.7.3"
  }
 },
 "nbformat": 4,
 "nbformat_minor": 1
}
